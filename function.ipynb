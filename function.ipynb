{
 "cells": [
  {
   "cell_type": "code",
   "execution_count": 1,
   "id": "4cac7ff8",
   "metadata": {},
   "outputs": [
    {
     "data": {
      "text/plain": [
       "8.0"
      ]
     },
     "execution_count": 1,
     "metadata": {},
     "output_type": "execute_result"
    }
   ],
   "source": [
    "def get_power(num, to_power):\n",
    "    num = float(num)\n",
    "    return num ** to_power\n",
    "\n",
    "\n",
    "get_power(2, 3)"
   ]
  },
  {
   "cell_type": "code",
   "execution_count": 2,
   "id": "7cd7c4b7",
   "metadata": {},
   "outputs": [
    {
     "data": {
      "text/plain": [
       "13"
      ]
     },
     "execution_count": 2,
     "metadata": {},
     "output_type": "execute_result"
    }
   ],
   "source": [
    "def add(var1, var2):\n",
    "    return var1 + var2\n",
    "\n",
    "add(5, 8)"
   ]
  },
  {
   "cell_type": "code",
   "execution_count": 3,
   "id": "6ddf8c7f",
   "metadata": {},
   "outputs": [
    {
     "data": {
      "text/plain": [
       "12"
      ]
     },
     "execution_count": 3,
     "metadata": {},
     "output_type": "execute_result"
    }
   ],
   "source": [
    "def add(var1, var2 = 5):\n",
    "    return var1 + var2\n",
    "\n",
    "add(7)"
   ]
  },
  {
   "cell_type": "code",
   "execution_count": 4,
   "id": "3ab4f72f",
   "metadata": {},
   "outputs": [
    {
     "data": {
      "text/plain": [
       "12"
      ]
     },
     "execution_count": 4,
     "metadata": {},
     "output_type": "execute_result"
    }
   ],
   "source": [
    "add(var1 = 7)"
   ]
  },
  {
   "cell_type": "code",
   "execution_count": 6,
   "id": "96816864",
   "metadata": {},
   "outputs": [
    {
     "name": "stdout",
     "output_type": "stream",
     "text": [
      "12\n",
      "None\n"
     ]
    }
   ],
   "source": [
    "def add(var1, var2 = 5):    #چون ریترن نداره none \n",
    "  print(var1 + var2)\n",
    "result = add(7)\n",
    "print(result)"
   ]
  },
  {
   "cell_type": "code",
   "execution_count": 11,
   "id": "adfb5b5b",
   "metadata": {},
   "outputs": [
    {
     "name": "stdout",
     "output_type": "stream",
     "text": [
      "30 30\n",
      "10\n"
     ]
    }
   ],
   "source": [
    "var = 10\n",
    "def func_(input_1):\n",
    "    var_ = var + 20\n",
    "    print(var_, input_1)\n",
    "\n",
    "    \n",
    "func_(30)\n",
    "print(var)\n"
   ]
  },
  {
   "cell_type": "code",
   "execution_count": 12,
   "id": "68fc8c58",
   "metadata": {},
   "outputs": [
    {
     "ename": "UnboundLocalError",
     "evalue": "local variable 'var' referenced before assignment",
     "output_type": "error",
     "traceback": [
      "\u001b[1;31m---------------------------------------------------------------------------\u001b[0m",
      "\u001b[1;31mUnboundLocalError\u001b[0m                         Traceback (most recent call last)",
      "\u001b[1;32m~\\AppData\\Local\\Temp/ipykernel_1368/479882060.py\u001b[0m in \u001b[0;36m<module>\u001b[1;34m\u001b[0m\n\u001b[0;32m      5\u001b[0m \u001b[1;33m\u001b[0m\u001b[0m\n\u001b[0;32m      6\u001b[0m \u001b[1;33m\u001b[0m\u001b[0m\n\u001b[1;32m----> 7\u001b[1;33m \u001b[0mfunc_\u001b[0m\u001b[1;33m(\u001b[0m\u001b[1;36m30\u001b[0m\u001b[1;33m)\u001b[0m\u001b[1;33m\u001b[0m\u001b[1;33m\u001b[0m\u001b[0m\n\u001b[0m\u001b[0;32m      8\u001b[0m \u001b[0mprint\u001b[0m\u001b[1;33m(\u001b[0m\u001b[0mvar\u001b[0m\u001b[1;33m)\u001b[0m\u001b[1;33m\u001b[0m\u001b[1;33m\u001b[0m\u001b[0m\n",
      "\u001b[1;32m~\\AppData\\Local\\Temp/ipykernel_1368/479882060.py\u001b[0m in \u001b[0;36mfunc_\u001b[1;34m(input_1)\u001b[0m\n\u001b[0;32m      1\u001b[0m \u001b[0mvar\u001b[0m \u001b[1;33m=\u001b[0m \u001b[1;36m10\u001b[0m\u001b[1;33m\u001b[0m\u001b[1;33m\u001b[0m\u001b[0m\n\u001b[0;32m      2\u001b[0m \u001b[1;32mdef\u001b[0m \u001b[0mfunc_\u001b[0m\u001b[1;33m(\u001b[0m\u001b[0minput_1\u001b[0m\u001b[1;33m)\u001b[0m\u001b[1;33m:\u001b[0m\u001b[1;33m\u001b[0m\u001b[1;33m\u001b[0m\u001b[0m\n\u001b[1;32m----> 3\u001b[1;33m     \u001b[0mvar\u001b[0m \u001b[1;33m=\u001b[0m \u001b[0mvar\u001b[0m \u001b[1;33m+\u001b[0m \u001b[1;36m20\u001b[0m\u001b[1;33m\u001b[0m\u001b[1;33m\u001b[0m\u001b[0m\n\u001b[0m\u001b[0;32m      4\u001b[0m     \u001b[0mprint\u001b[0m\u001b[1;33m(\u001b[0m\u001b[0mvar_\u001b[0m\u001b[1;33m,\u001b[0m \u001b[0minput_1\u001b[0m\u001b[1;33m)\u001b[0m\u001b[1;33m\u001b[0m\u001b[1;33m\u001b[0m\u001b[0m\n\u001b[0;32m      5\u001b[0m \u001b[1;33m\u001b[0m\u001b[0m\n",
      "\u001b[1;31mUnboundLocalError\u001b[0m: local variable 'var' referenced before assignment"
     ]
    }
   ],
   "source": [
    "var = 10\n",
    "def func_(input_1):\n",
    "    var = var + 20\n",
    "    print(var_, input_1)\n",
    "\n",
    "    \n",
    "func_(30)\n",
    "print(var)"
   ]
  },
  {
   "cell_type": "code",
   "execution_count": 13,
   "id": "257ba13b",
   "metadata": {},
   "outputs": [
    {
     "name": "stdout",
     "output_type": "stream",
     "text": [
      "10 30\n",
      "30\n"
     ]
    }
   ],
   "source": [
    "var = 10\n",
    "def func_(input_1):\n",
    "    global var\n",
    "    var = var + 20\n",
    "    print(var_, input_1)\n",
    "\n",
    "    \n",
    "func_(30)\n",
    "print(var)"
   ]
  },
  {
   "cell_type": "code",
   "execution_count": 14,
   "id": "39a1c2e1",
   "metadata": {},
   "outputs": [
    {
     "name": "stdout",
     "output_type": "stream",
     "text": [
      "20 30\n",
      "10\n"
     ]
    }
   ],
   "source": [
    "var = 10\n",
    "def func_(input_1):\n",
    "    var = 20\n",
    "    print(var, input_1)\n",
    "func_(30)\n",
    "print(var)"
   ]
  },
  {
   "cell_type": "code",
   "execution_count": 15,
   "id": "8cea097d",
   "metadata": {},
   "outputs": [
    {
     "name": "stdout",
     "output_type": "stream",
     "text": [
      "<class 'tuple'>\n",
      "ali\n",
      "reza\n",
      "hamid\n",
      "arash\n"
     ]
    }
   ],
   "source": [
    "def func(*args): #دادن هر تعدا که بخواهیم آرگومان به تابع بدون تعریف آرگومان ها درتابع در واقع خود تابع میسازه\n",
    "    print(type(args))\n",
    "    for arg in args:\n",
    "        print(arg)\n",
    "\n",
    "        \n",
    "func('ali','reza','hamid','arash')"
   ]
  },
  {
   "cell_type": "code",
   "execution_count": 17,
   "id": "92d637e9",
   "metadata": {},
   "outputs": [
    {
     "name": "stdout",
     "output_type": "stream",
     "text": [
      "<class 'tuple'>\n",
      "ali\n",
      "reza\n",
      "hamid\n",
      "arash\n"
     ]
    }
   ],
   "source": [
    "def func(*ali):\n",
    "    print(type(ali))\n",
    "    for arg in ali:\n",
    "        print(arg)\n",
    "\n",
    "        \n",
    "func('ali','reza','hamid','arash')"
   ]
  },
  {
   "cell_type": "code",
   "execution_count": 19,
   "id": "f590eafc",
   "metadata": {},
   "outputs": [
    {
     "name": "stdout",
     "output_type": "stream",
     "text": [
      "arg_1 : ali\n",
      "arg_2 : reza\n",
      "arg_3 : hamed\n",
      "arg_4 : ashkan\n"
     ]
    }
   ],
   "source": [
    "def func(arg_1, arg_2, arg_3, arg_4):\n",
    "    print(\"arg_1 :\", arg_1)\n",
    "    print(\"arg_2 :\", arg_2)\n",
    "    print(\"arg_3 :\", arg_3)\n",
    "    print(\"arg_4 :\", arg_4)\n",
    "    \n",
    "    \n",
    "args =[\"ali\",\"reza\",\"hamed\",\"ashkan\"]\n",
    "func(args[0], args[1], args[2], args[3])"
   ]
  },
  {
   "cell_type": "code",
   "execution_count": 20,
   "id": "5100e049",
   "metadata": {},
   "outputs": [
    {
     "name": "stdout",
     "output_type": "stream",
     "text": [
      "arg_1 : ali\n",
      "arg_2 : reza\n",
      "arg_3 : hamed\n",
      "arg_4 : ashkan\n"
     ]
    }
   ],
   "source": [
    "def func(arg_1, arg_2, arg_3, arg_4):\n",
    "    print(\"arg_1 :\", arg_1)\n",
    "    print(\"arg_2 :\", arg_2)\n",
    "    print(\"arg_3 :\", arg_3)\n",
    "    print(\"arg_4 :\", arg_4)\n",
    "    \n",
    "    \n",
    "args =[\"ali\",\"reza\",\"hamed\",\"ashkan\"]\n",
    "func(*args)"
   ]
  },
  {
   "cell_type": "code",
   "execution_count": 27,
   "id": "aa1891fe",
   "metadata": {},
   "outputs": [
    {
     "name": "stdout",
     "output_type": "stream",
     "text": [
      "arg_1 : ali\n",
      "arg_2 : reza\n",
      "arg_3 : hamed\n"
     ]
    }
   ],
   "source": [
    "def func(arg_1, arg_2, arg_3):\n",
    "    print(\"arg_1 :\", arg_1)\n",
    "    print(\"arg_2 :\", arg_2)\n",
    "    print(\"arg_3 :\", arg_3)\n",
    "    \n",
    "    \n",
    "    \n",
    "kwargs = {\"arg_1\" : \"ali\", \"arg_2\" : \"reza\", \"arg_3\" : \"hamed\"}\n",
    "func(**kwargs)"
   ]
  },
  {
   "cell_type": "code",
   "execution_count": 31,
   "id": "54239e59",
   "metadata": {},
   "outputs": [
    {
     "name": "stdout",
     "output_type": "stream",
     "text": [
      "arg_1 : ali\n",
      "arg_2 : reza\n",
      "arg_3 : hamed\n"
     ]
    }
   ],
   "source": [
    "def func(arg_1, arg_2, arg_3):\n",
    "    print(\"arg_1 :\", arg_1)\n",
    "    print(\"arg_2 :\", arg_2)\n",
    "    print(\"arg_3 :\", arg_3)\n",
    "    \"\"\"\n",
    "    can here write help function\n",
    "    \n",
    "    \"\"\"\n",
    "    \n",
    "    \n",
    "kwargs = {\"arg_1\" : \"ali\", \"arg_2\" : \"reza\", \"arg_3\" : \"hamed\"}\n",
    "func(**kwargs)\n"
   ]
  },
  {
   "cell_type": "code",
   "execution_count": null,
   "id": "78ab2907",
   "metadata": {},
   "outputs": [],
   "source": []
  },
  {
   "cell_type": "code",
   "execution_count": null,
   "id": "0e5f5669",
   "metadata": {},
   "outputs": [],
   "source": []
  }
 ],
 "metadata": {
  "kernelspec": {
   "display_name": "Python 3 (ipykernel)",
   "language": "python",
   "name": "python3"
  },
  "language_info": {
   "codemirror_mode": {
    "name": "ipython",
    "version": 3
   },
   "file_extension": ".py",
   "mimetype": "text/x-python",
   "name": "python",
   "nbconvert_exporter": "python",
   "pygments_lexer": "ipython3",
   "version": "3.9.7"
  }
 },
 "nbformat": 4,
 "nbformat_minor": 5
}
